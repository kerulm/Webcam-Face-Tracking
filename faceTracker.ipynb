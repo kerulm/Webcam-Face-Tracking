{
 "cells": [
  {
   "cell_type": "code",
   "execution_count": 6,
   "id": "32c7d300",
   "metadata": {},
   "outputs": [],
   "source": [
    "import cv2\n",
    "import numpy as np"
   ]
  },
  {
   "cell_type": "code",
   "execution_count": 7,
   "id": "9e9d5ea0",
   "metadata": {},
   "outputs": [],
   "source": [
    "\n",
    "template = cv2.imread('IMG_0179.jpg', 0)"
   ]
  },
  {
   "cell_type": "code",
   "execution_count": 8,
   "id": "f599f43a",
   "metadata": {},
   "outputs": [
    {
     "name": "stderr",
     "output_type": "stream",
     "text": [
      "[ WARN:0@3407.134] global /private/var/folders/k1/30mswbxs7r1g6zwn8y4fyt500000gp/T/abs_11nitadzeg/croot/opencv-suite_1691620374638/work/modules/videoio/src/cap_gstreamer.cpp (862) isPipelinePlaying OpenCV | GStreamer warning: GStreamer: pipeline have not been created\n",
      "[ WARN:0@3408.217] global /private/var/folders/k1/30mswbxs7r1g6zwn8y4fyt500000gp/T/abs_11nitadzeg/croot/opencv-suite_1691620374638/work/modules/videoio/src/cap_gstreamer.cpp (2180) open OpenCV | GStreamer warning: cannot link elements\n"
     ]
    }
   ],
   "source": [
    "# Initialize video capture\n",
    "cap = cv2.VideoCapture(0)\n",
    "\n",
    "# Get template dimensions\n",
    "h, w = template.shape[:2]\n",
    "\n",
    "frame_width = int(cap.get(cv2.CAP_PROP_FRAME_WIDTH))\n",
    "frame_height = int(cap.get(cv2.CAP_PROP_FRAME_HEIGHT))\n",
    "fourcc = cv2.VideoWriter_fourcc(*'mp4v')\n",
    "out = cv2.VideoWriter('output.mp4', fourcc, 20.0, (frame_width, frame_height))\n",
    "\n",
    "canny_threshold1 = 100\n",
    "canny_threshold2 = 250\n",
    "\n",
    "prev_top_left = None\n",
    "prev_bottom_right = None\n",
    "tracking_enabled = False"
   ]
  },
  {
   "cell_type": "code",
   "execution_count": 9,
   "id": "93c5db77",
   "metadata": {},
   "outputs": [
    {
     "ename": "",
     "evalue": "",
     "output_type": "error",
     "traceback": [
      "\u001b[1;31mThe Kernel crashed while executing code in the current cell or a previous cell. \n",
      "\u001b[1;31mPlease review the code in the cell(s) to identify a possible cause of the failure. \n",
      "\u001b[1;31mClick <a href='https://aka.ms/vscodeJupyterKernelCrash'>here</a> for more info. \n",
      "\u001b[1;31mView Jupyter <a href='command:jupyter.viewOutput'>log</a> for further details."
     ]
    }
   ],
   "source": [
    "while True:\n",
    "    ret, frame = cap.read()\n",
    "    if not ret:\n",
    "        break\n",
    "    # Convert frame to grayscale\n",
    "    gray_frame = cv2.cvtColor(frame, cv2.COLOR_BGR2GRAY) \n",
    "    # Apply Canny edge detection\n",
    "    edges = cv2.Canny(gray_frame, canny_threshold1, canny_threshold2)\n",
    "    \n",
    "    if tracking_enabled:\n",
    "        # Define search area based on previous detection\n",
    "        search_area_top_left = (max(0, prev_top_left[0] - w), max(0, prev_top_left[1] - h))\n",
    "        search_area_bottom_right = (min(frame.shape[1], prev_bottom_right[0] + w), min(frame.shape[0], prev_bottom_right[1] + h))\n",
    "        search_area = gray_frame[search_area_top_left[1]:search_area_bottom_right[1], search_area_top_left[0]:search_area_bottom_right[0]]\n",
    "        \n",
    "        # Ensure search area size is compatible with template\n",
    "        if search_area.shape[0] < h or search_area.shape[1] < w:\n",
    "            tracking_enabled = False\n",
    "        else:\n",
    "            # Apply cross correlation in the search area\n",
    "            result = cv2.matchTemplate(search_area, template, cv2.TM_CCOEFF)\n",
    "            \n",
    "            # Find maximum correlation value and its location    \n",
    "            _, max_val, _, max_loc = cv2.minMaxLoc(result)\n",
    "            max_loc = (max_loc[0] + search_area_top_left[0], max_loc[1] + search_area_top_left[1])\n",
    "            \n",
    "            # Draw bounding box around the detected object\n",
    "            top_left = max_loc\n",
    "            bottom_right = (top_left[0] + w, top_left[1] + h)\n",
    "            cv2.rectangle(frame, top_left, bottom_right, (0, 255, 0), 2)\n",
    "            prev_top_left = top_left\n",
    "            prev_bottom_right = bottom_right\n",
    "    else:\n",
    "        # Apply cross correlation on the entire frame\n",
    "        result = cv2.matchTemplate(gray_frame, template, cv2.TM_CCOEFF)\n",
    "        \n",
    "        _, max_val, _, max_loc = cv2.minMaxLoc(result)    \n",
    "        threshold = 2.0\n",
    "        \n",
    "        if max_val > threshold:\n",
    "\n",
    "            tracking_enabled = True\n",
    "            prev_top_left = max_loc\n",
    "            prev_bottom_right = (prev_top_left[0] + w, prev_top_left[1] + h)\n",
    "            \n",
    "            # Draw bounding box around the detected object\n",
    "            top_left = max_loc\n",
    "            bottom_right = (top_left[0] + w, top_left[1] + h)\n",
    "            cv2.rectangle(frame, top_left, bottom_right, (0, 255, 0), 2)\n",
    "    out.write(frame)\n",
    "    cv2.imshow('Face Tracking', frame)\n",
    "    if cv2.waitKey(1) & 0xFF == ord('q'):\n",
    "        break\n",
    "cap.release()\n",
    "out.release()\n",
    "cv2.destroyAllWindows()"
   ]
  },
  {
   "cell_type": "code",
   "execution_count": null,
   "id": "443044d7",
   "metadata": {},
   "outputs": [],
   "source": []
  }
 ],
 "metadata": {
  "kernelspec": {
   "display_name": "Python 3 (ipykernel)",
   "language": "python",
   "name": "python3"
  },
  "language_info": {
   "codemirror_mode": {
    "name": "ipython",
    "version": 3
   },
   "file_extension": ".py",
   "mimetype": "text/x-python",
   "name": "python",
   "nbconvert_exporter": "python",
   "pygments_lexer": "ipython3",
   "version": "3.11.4"
  }
 },
 "nbformat": 4,
 "nbformat_minor": 5
}
